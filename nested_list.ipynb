{
 "cells": [
  {
   "cell_type": "code",
   "execution_count": 23,
   "id": "fd9e301c-05bf-42a6-bd7f-1b6efac7caf6",
   "metadata": {},
   "outputs": [
    {
     "data": {
      "text/plain": [
       "['Csc', 'ECE', 'EEE', 'IT', 'Mech']"
      ]
     },
     "execution_count": 23,
     "metadata": {},
     "output_type": "execute_result"
    }
   ],
   "source": [
    "dep=['ECE','Mech','IT','Csc','EEE']\n",
    "dep.sort()\n",
    "dep"
   ]
  },
  {
   "cell_type": "code",
   "execution_count": 24,
   "id": "0c98299d-9abc-4048-9499-fbd5c06bc7a4",
   "metadata": {},
   "outputs": [
    {
     "data": {
      "text/plain": [
       "[21, 34, 56, 90]"
      ]
     },
     "execution_count": 24,
     "metadata": {},
     "output_type": "execute_result"
    }
   ],
   "source": [
    "num=[56,90,34,21]\n",
    "num.sort()\n",
    "num"
   ]
  },
  {
   "cell_type": "code",
   "execution_count": 25,
   "id": "2249404c-8f27-4052-8f7e-5ad6175e1b30",
   "metadata": {},
   "outputs": [
    {
     "data": {
      "text/plain": [
       "['E', 'I', 'b', 'c', 'm']"
      ]
     },
     "execution_count": 25,
     "metadata": {},
     "output_type": "execute_result"
    }
   ],
   "source": [
    "dep=['E','m','I','c','b']\n",
    "dep.sort()\n",
    "dep"
   ]
  },
  {
   "cell_type": "code",
   "execution_count": null,
   "id": "5b9cfd3f-27f5-4c7f-86e5-2c9c1b66f611",
   "metadata": {},
   "outputs": [],
   "source": [
    "Character Type\t        ASCII  Range_characters\n",
    "Uppercase Letters (A-Z)\t65-90\t'A' to 'Z'\n",
    "Lowercase Letters (a-z)\t97-122\t'a' to 'z'"
   ]
  },
  {
   "cell_type": "code",
   "execution_count": null,
   "id": "3de4ca64-062f-426b-a86d-e291c88d71f6",
   "metadata": {},
   "outputs": [],
   "source": [
    "# The American Standard Code for Information Interchange (ASCII) is like a dictionary for computers.\n",
    "#When you type a character, the computer converts it into its corresponding ASCII value, which is a number.\n",
    "#The computer then processes this number to display the character or perform other operations"
   ]
  },
  {
   "cell_type": "code",
   "execution_count": 11,
   "id": "cbe678f2-afff-48b9-82ba-5e602dacc391",
   "metadata": {},
   "outputs": [
    {
     "data": {
      "text/plain": [
       "65"
      ]
     },
     "execution_count": 11,
     "metadata": {},
     "output_type": "execute_result"
    }
   ],
   "source": [
    "ord('A')#Return the Unicode code point for a one-character "
   ]
  },
  {
   "cell_type": "code",
   "execution_count": 12,
   "id": "d7dbfa0e-7fe3-44ab-8ec2-0b62adb39888",
   "metadata": {},
   "outputs": [
    {
     "data": {
      "text/plain": [
       "'A'"
      ]
     },
     "execution_count": 12,
     "metadata": {},
     "output_type": "execute_result"
    }
   ],
   "source": [
    "chr(65)#returns character @ particular ascii value"
   ]
  },
  {
   "cell_type": "code",
   "execution_count": 26,
   "id": "f2df2d83-520c-472e-a3e3-14962cbc888c",
   "metadata": {},
   "outputs": [
    {
     "data": {
      "text/plain": [
       "['ECE', 'EEE', 'IT', 'csc', 'mech']"
      ]
     },
     "execution_count": 26,
     "metadata": {},
     "output_type": "execute_result"
    }
   ],
   "source": [
    "dep=['ECE','mech','IT','csc','EEE']\n",
    "dep.sort()\n",
    "dep"
   ]
  },
  {
   "cell_type": "code",
   "execution_count": null,
   "id": "9a2588e1-1865-4eee-ade9-dddbdbde6ac4",
   "metadata": {},
   "outputs": [],
   "source": [
    "Character Type\t        ASCII  Range_characters\n",
    "Digits (0-9)\t        48-57\t'0' to '9'\n",
    "Uppercase Letters (A-Z)\t65-90\t'A' to 'Z'\n",
    "Lowercase Letters (a-z)\t97-122\t'a' to 'z'"
   ]
  },
  {
   "cell_type": "code",
   "execution_count": 18,
   "id": "c2188858-7139-4721-8816-1c3dc13a0865",
   "metadata": {},
   "outputs": [
    {
     "ename": "TypeError",
     "evalue": "'<' not supported between instances of 'int' and 'str'",
     "output_type": "error",
     "traceback": [
      "\u001b[1;31m---------------------------------------------------------------------------\u001b[0m",
      "\u001b[1;31mTypeError\u001b[0m                                 Traceback (most recent call last)",
      "Cell \u001b[1;32mIn[18], line 2\u001b[0m\n\u001b[0;32m      1\u001b[0m list1 \u001b[38;5;241m=\u001b[39m [\u001b[38;5;124m'\u001b[39m\u001b[38;5;124mEce\u001b[39m\u001b[38;5;124m'\u001b[39m, \u001b[38;5;241m95\u001b[39m, \u001b[38;5;124m'\u001b[39m\u001b[38;5;124msnegha\u001b[39m\u001b[38;5;124m'\u001b[39m,\u001b[38;5;124m'\u001b[39m\u001b[38;5;124mBio\u001b[39m\u001b[38;5;124m'\u001b[39m,\u001b[38;5;124m'\u001b[39m\u001b[38;5;124mBa\u001b[39m\u001b[38;5;124m'\u001b[39m, \u001b[38;5;241m89\u001b[39m]\n\u001b[1;32m----> 2\u001b[0m list1\u001b[38;5;241m.\u001b[39msort()\n",
      "\u001b[1;31mTypeError\u001b[0m: '<' not supported between instances of 'int' and 'str'"
     ]
    }
   ],
   "source": [
    "list1 = ['Ece', 95, 'snegha','Bio','Ba', 89]\n",
    "list1.sort()"
   ]
  },
  {
   "cell_type": "code",
   "execution_count": 27,
   "id": "6b3f9dc1-dadb-4770-8a0d-bdfd8122ebc3",
   "metadata": {},
   "outputs": [
    {
     "name": "stdout",
     "output_type": "stream",
     "text": [
      "[23, 89, 95, 'Ba', 'Bio', 'Ece', 'snegha']\n"
     ]
    }
   ],
   "source": [
    "list1 = ['Ece', 95, 'snegha','Bio','Ba', 89,23]\n",
    "res=sorted(list1, key=str)\n",
    "print(res)"
   ]
  },
  {
   "cell_type": "code",
   "execution_count": 28,
   "id": "29cc3009-e315-4842-9d1c-343ebc199881",
   "metadata": {},
   "outputs": [
    {
     "name": "stdout",
     "output_type": "stream",
     "text": [
      "[89, 9.8, 95, 'Ba', 'Bio', 'Ece', 'snegha']\n"
     ]
    }
   ],
   "source": [
    "#list supports different data types elements\n",
    "list1 = ['Ece', 95,9.8, 'snegha','Bio','Ba', 89]\n",
    "sorted_list = sorted(list1, key=str)\n",
    "print(sorted_list)"
   ]
  },
  {
   "cell_type": "code",
   "execution_count": 32,
   "id": "55a2f07a-fc22-4b69-941f-15b049bb8fb5",
   "metadata": {},
   "outputs": [
    {
     "data": {
      "text/plain": [
       "['IT', 'eoo', 'csc', 'EENTdoc', 'mechanical']"
      ]
     },
     "execution_count": 32,
     "metadata": {},
     "output_type": "execute_result"
    }
   ],
   "source": [
    "list2=['eoo', 'EENTdoc', 'IT', 'csc', 'mechanical']\n",
    "res=sorted(list2,key=len)\n",
    "res"
   ]
  },
  {
   "cell_type": "code",
   "execution_count": 33,
   "id": "75d672e7-661b-4cf2-9d13-c5abd5640840",
   "metadata": {},
   "outputs": [
    {
     "name": "stdout",
     "output_type": "stream",
     "text": [
      "201\n",
      "90\n",
      "21\n"
     ]
    }
   ],
   "source": [
    "num=[56,90,34,21]\n",
    "print(sum(num))\n",
    "print(max(num))\n",
    "print(min(num))"
   ]
  },
  {
   "cell_type": "code",
   "execution_count": 34,
   "id": "9b39c218-4cc4-46b6-94a5-43861ec780f2",
   "metadata": {},
   "outputs": [
    {
     "data": {
      "text/plain": [
       "['eoo', 'EENTdoc', 'IT', 'csc', 'mechanical', ['data', 'mites']]"
      ]
     },
     "execution_count": 34,
     "metadata": {},
     "output_type": "execute_result"
    }
   ],
   "source": [
    "#try adding >2 elements using append\n",
    "list2.append(['data','mites'])\n",
    "list2"
   ]
  },
  {
   "cell_type": "code",
   "execution_count": 58,
   "id": "12be8ade-cd53-4493-aede-bbe05cf38aba",
   "metadata": {},
   "outputs": [
    {
     "data": {
      "text/plain": [
       "[[1, 3, 2],\n",
       " [4, 5, 6],\n",
       " [7, 8, 9],\n",
       " ['a', 'b', 'c'],\n",
       " ['d', 'e', 'f'],\n",
       " 'dept1',\n",
       " 'books',\n",
       " 90,\n",
       " 87]"
      ]
     },
     "execution_count": 58,
     "metadata": {},
     "output_type": "execute_result"
    }
   ],
   "source": [
    "nested_list = [\n",
    "    [1, 3, 2],\n",
    "    [4, 5, 6],\n",
    "    [7, 8, 9],\n",
    "    [\"a\", \"b\", \"c\"],\n",
    "    [\"d\", \"e\", \"f\"],'dept1','books',90,87\n",
    "]\n",
    "nested_list"
   ]
  },
  {
   "cell_type": "code",
   "execution_count": 48,
   "id": "b291c4dd-62b7-45fe-bdc2-c2dc9492ca1d",
   "metadata": {},
   "outputs": [
    {
     "data": {
      "text/plain": [
       "[[1, 3, 2],\n",
       " [4, 5, 6],\n",
       " [7, 8, 9],\n",
       " ['a', 'b', 'c'],\n",
       " ['d', 'e', 'f'],\n",
       " 'dept1',\n",
       " 'books',\n",
       " [10, 11, 12]]"
      ]
     },
     "execution_count": 48,
     "metadata": {},
     "output_type": "execute_result"
    }
   ],
   "source": [
    "#Appending and Extending:\n",
    "nested_list.append([10, 11, 12])\n",
    "nested_list"
   ]
  },
  {
   "cell_type": "code",
   "execution_count": 49,
   "id": "a3daebfd-3c43-44e6-b9e1-c77670c4d342",
   "metadata": {},
   "outputs": [
    {
     "data": {
      "text/plain": [
       "[[1, 3, 2],\n",
       " [4, 5, 6],\n",
       " [7, 8, 9],\n",
       " ['a', 'b', 'c'],\n",
       " ['d', 'e', 'f'],\n",
       " 'dept1',\n",
       " 'books',\n",
       " [10, 11, 12],\n",
       " [13, 14],\n",
       " [90, 23]]"
      ]
     },
     "execution_count": 49,
     "metadata": {},
     "output_type": "execute_result"
    }
   ],
   "source": [
    "nested_list.extend([[13, 14],[90,23]])\n",
    "nested_list"
   ]
  },
  {
   "cell_type": "code",
   "execution_count": 50,
   "id": "7d7f360d-c840-4b70-977e-f608592df724",
   "metadata": {},
   "outputs": [
    {
     "data": {
      "text/plain": [
       "[[1, 3, 2],\n",
       " [45, 90, 100],\n",
       " [4, 5, 6],\n",
       " [7, 8, 9],\n",
       " ['a', 'b', 'c'],\n",
       " ['d', 'e', 'f'],\n",
       " 'dept1',\n",
       " 'books',\n",
       " [10, 11, 12],\n",
       " [13, 14],\n",
       " [90, 23]]"
      ]
     },
     "execution_count": 50,
     "metadata": {},
     "output_type": "execute_result"
    }
   ],
   "source": [
    "nested_list.insert(1,[45,90,100])\n",
    "nested_list"
   ]
  },
  {
   "cell_type": "code",
   "execution_count": 51,
   "id": "5d253377-9a1e-48a3-8f94-0a566a60774e",
   "metadata": {},
   "outputs": [
    {
     "data": {
      "text/plain": [
       "[[1, 3, 2],\n",
       " [45, 90, 100],\n",
       " [4, 5, 6],\n",
       " [7, 8, 9],\n",
       " ['a', 'b', 'c'],\n",
       " 'dept1',\n",
       " 'books',\n",
       " [10, 11, 12],\n",
       " [13, 14],\n",
       " [90, 23]]"
      ]
     },
     "execution_count": 51,
     "metadata": {},
     "output_type": "execute_result"
    }
   ],
   "source": [
    "nested_list.remove(['d','e','f'])\n",
    "nested_list"
   ]
  },
  {
   "cell_type": "code",
   "execution_count": 52,
   "id": "84332f10-eed4-44fc-81aa-71a45588b6c2",
   "metadata": {},
   "outputs": [
    {
     "data": {
      "text/plain": [
       "[[1, 3, 2],\n",
       " [45, 90, 100],\n",
       " [4, 5, 6],\n",
       " [7, 8, 9],\n",
       " ['a', 'b', 'c'],\n",
       " 'dept1',\n",
       " 'books',\n",
       " [10, 11, 12],\n",
       " [13, 14]]"
      ]
     },
     "execution_count": 52,
     "metadata": {},
     "output_type": "execute_result"
    }
   ],
   "source": [
    "nested_list.pop()\n",
    "nested_list"
   ]
  },
  {
   "cell_type": "code",
   "execution_count": 53,
   "id": "316a7145-6fea-481d-9db8-6dd802b0c46e",
   "metadata": {},
   "outputs": [
    {
     "data": {
      "text/plain": [
       "[[1, 3, 2],\n",
       " [45, 90, 100],\n",
       " [4, 5, 6],\n",
       " [7, 8, 9],\n",
       " ['a', 'b', 'c'],\n",
       " 'books',\n",
       " [10, 11, 12],\n",
       " [13, 14]]"
      ]
     },
     "execution_count": 53,
     "metadata": {},
     "output_type": "execute_result"
    }
   ],
   "source": [
    "nested_list.pop(5)\n",
    "nested_list"
   ]
  },
  {
   "cell_type": "code",
   "execution_count": 63,
   "id": "c3b70650-31bd-4936-abe1-59f96ea483c0",
   "metadata": {},
   "outputs": [],
   "source": [
    "nested_list[0].sort()\n"
   ]
  },
  {
   "cell_type": "code",
   "execution_count": 65,
   "id": "71b3038c-a4a9-4b00-8bd3-53ec18122fe7",
   "metadata": {},
   "outputs": [
    {
     "data": {
      "text/plain": [
       "[[1, 2, 3],\n",
       " [4, 5, 6],\n",
       " [7, 8, 9],\n",
       " ['a', 'b', 'c'],\n",
       " ['d', 'e', 'f'],\n",
       " 'dept1',\n",
       " 'books',\n",
       " 90,\n",
       " 87]"
      ]
     },
     "execution_count": 65,
     "metadata": {},
     "output_type": "execute_result"
    }
   ],
   "source": [
    "nested_list"
   ]
  },
  {
   "cell_type": "code",
   "execution_count": 66,
   "id": "7b0f018d-1b2c-4308-8a8c-b0410bb3afaf",
   "metadata": {},
   "outputs": [
    {
     "data": {
      "text/plain": [
       "5"
      ]
     },
     "execution_count": 66,
     "metadata": {},
     "output_type": "execute_result"
    }
   ],
   "source": [
    "nested_list[1][1]"
   ]
  },
  {
   "cell_type": "code",
   "execution_count": 68,
   "id": "ca915f86-c2e4-42a3-912f-ad3be87b1a98",
   "metadata": {},
   "outputs": [
    {
     "data": {
      "text/plain": [
       "[[1, 2, 3],\n",
       " [4, 5, 6, 10],\n",
       " [7, 8, 9, 11, 12],\n",
       " ['a', 'b', 'c'],\n",
       " ['d', 'e', 'f'],\n",
       " 'dept1',\n",
       " 'books',\n",
       " 90,\n",
       " 87]"
      ]
     },
     "execution_count": 68,
     "metadata": {},
     "output_type": "execute_result"
    }
   ],
   "source": [
    "nested_list[2].extend([11,12])\n",
    "nested_list"
   ]
  },
  {
   "cell_type": "code",
   "execution_count": null,
   "id": "7a5ec063-a013-47cb-971b-a68bb54d1c61",
   "metadata": {},
   "outputs": [],
   "source": [
    "nested_list[4].extend([2,10])\n",
    "nested_list"
   ]
  },
  {
   "cell_type": "code",
   "execution_count": 69,
   "id": "0ea497e4-d5a6-4cb6-bbd1-3a1c09f05760",
   "metadata": {},
   "outputs": [
    {
     "data": {
      "text/plain": [
       "[[1, 2, 3],\n",
       " [4, 5, 6, 10],\n",
       " [7, 8, 9, 11, 12],\n",
       " ['a', 'x', 'b', 'c'],\n",
       " ['d', 'e', 'f'],\n",
       " 'dept1',\n",
       " 'books',\n",
       " 90,\n",
       " 87]"
      ]
     },
     "execution_count": 69,
     "metadata": {},
     "output_type": "execute_result"
    }
   ],
   "source": [
    "#Inserting Elements\n",
    "nested_list[3].insert(1, \"x\")\n",
    "nested_list"
   ]
  },
  {
   "cell_type": "code",
   "execution_count": 71,
   "id": "88d17d77-85c8-4683-94d2-86f21330dae1",
   "metadata": {},
   "outputs": [
    {
     "data": {
      "text/plain": [
       "[[1, 2, 3],\n",
       " [4, 5, 10],\n",
       " [7, 8, 9, 11, 12],\n",
       " ['a', 'x', 'b'],\n",
       " ['d', 'e', 'f'],\n",
       " 'dept1',\n",
       " 'books',\n",
       " 90,\n",
       " 87]"
      ]
     },
     "execution_count": 71,
     "metadata": {},
     "output_type": "execute_result"
    }
   ],
   "source": [
    "nested_list[3].pop()\n",
    "nested_list"
   ]
  },
  {
   "cell_type": "code",
   "execution_count": 72,
   "id": "8e04bc00-627d-4b62-9d40-db6cebad8d99",
   "metadata": {},
   "outputs": [
    {
     "data": {
      "text/plain": [
       "[[1, 2, 3],\n",
       " [4, 5, 10],\n",
       " [7, 12],\n",
       " ['a', 'x', 'b'],\n",
       " ['d', 'e', 'f'],\n",
       " 'dept1',\n",
       " 'books',\n",
       " 90,\n",
       " 87]"
      ]
     },
     "execution_count": 72,
     "metadata": {},
     "output_type": "execute_result"
    }
   ],
   "source": [
    "del nested_list[2][1:4]\n",
    "nested_list"
   ]
  },
  {
   "cell_type": "code",
   "execution_count": 73,
   "id": "6289974e-fb0c-4109-8796-92eb9f8ee4c6",
   "metadata": {},
   "outputs": [],
   "source": [
    "nested_list[3].sort(reverse=True)"
   ]
  },
  {
   "cell_type": "code",
   "execution_count": null,
   "id": "44d4b0f2-3a22-422d-a024-744ab4a43c3a",
   "metadata": {},
   "outputs": [],
   "source": [
    "#Accessing Elements:\n",
    "element = nested_list[0][1]  "
   ]
  },
  {
   "cell_type": "code",
   "execution_count": 74,
   "id": "58d35ae3-efbf-42b0-982d-93dda493b6b4",
   "metadata": {},
   "outputs": [
    {
     "data": {
      "text/plain": [
       "[[1, 2, 3],\n",
       " [4, 5, 10],\n",
       " [7, 12],\n",
       " ['x', 'b', 'a'],\n",
       " ['d', 'e', 'f'],\n",
       " 'dept1',\n",
       " 'books',\n",
       " 90,\n",
       " 87]"
      ]
     },
     "execution_count": 74,
     "metadata": {},
     "output_type": "execute_result"
    }
   ],
   "source": [
    "nested_list"
   ]
  },
  {
   "cell_type": "code",
   "execution_count": null,
   "id": "a45c30bd-6a73-4567-9e4d-c2ef66a50afa",
   "metadata": {},
   "outputs": [],
   "source": [
    "sublist = nested_list[2]"
   ]
  },
  {
   "cell_type": "code",
   "execution_count": null,
   "id": "3e55a753-9be0-48fe-8150-41dfb220be0d",
   "metadata": {},
   "outputs": [],
   "source": [
    "#Removing Elements:"
   ]
  },
  {
   "cell_type": "code",
   "execution_count": null,
   "id": "f8ec98c8-6849-4297-a4a5-880604d793ce",
   "metadata": {},
   "outputs": [],
   "source": [
    "nested_list[4].remove(\"e\")"
   ]
  },
  {
   "cell_type": "code",
   "execution_count": null,
   "id": "56a139f7-f045-4334-b6ee-c0f20494dd35",
   "metadata": {},
   "outputs": [],
   "source": [
    "popped_element = nested_list[2].pop(1)  "
   ]
  },
  {
   "cell_type": "code",
   "execution_count": null,
   "id": "9983db08-4c8d-4e5a-9838-a12a21c032fc",
   "metadata": {},
   "outputs": [],
   "source": [
    "#Sorting Sublist:"
   ]
  },
  {
   "cell_type": "code",
   "execution_count": 4,
   "id": "591c3704-3c22-4e4d-94e2-db85b1000d81",
   "metadata": {},
   "outputs": [],
   "source": [
    "nested_list[3].sort()"
   ]
  },
  {
   "cell_type": "code",
   "execution_count": null,
   "id": "8f41a844-cfe8-4059-be46-82220670227c",
   "metadata": {},
   "outputs": [],
   "source": [
    "nested_list"
   ]
  },
  {
   "cell_type": "code",
   "execution_count": null,
   "id": "2fc7dc95-7f15-423f-94c6-ba5e492c4e3d",
   "metadata": {},
   "outputs": [],
   "source": [
    "#"
   ]
  },
  {
   "cell_type": "code",
   "execution_count": 75,
   "id": "fc7b3ea6-4f58-4708-bfaf-e61c311b18ef",
   "metadata": {},
   "outputs": [
    {
     "data": {
      "text/plain": [
       "['mites']"
      ]
     },
     "execution_count": 75,
     "metadata": {},
     "output_type": "execute_result"
    }
   ],
   "source": [
    "#type casting\n",
    "name='mites'\n",
    "name.split()"
   ]
  },
  {
   "cell_type": "code",
   "execution_count": 78,
   "id": "9a965e52-96bc-49f4-a70f-e5b3fb599bcf",
   "metadata": {},
   "outputs": [
    {
     "data": {
      "text/plain": [
       "['d', 'a', 't', 'a', 'm', 'i', 't', 'e', 's', ' ', 'w', 'o', 'r', 'l', 'd']"
      ]
     },
     "execution_count": 78,
     "metadata": {},
     "output_type": "execute_result"
    }
   ],
   "source": [
    "name='datamites world'\n",
    "res=list(name)\n",
    "res"
   ]
  },
  {
   "cell_type": "code",
   "execution_count": 77,
   "id": "e13bf14a-22ee-4c1e-988e-554da9097ba6",
   "metadata": {},
   "outputs": [
    {
     "data": {
      "text/plain": [
       "['2', '0', '0', '1']"
      ]
     },
     "execution_count": 77,
     "metadata": {},
     "output_type": "execute_result"
    }
   ],
   "source": [
    "name='2001'\n",
    "list(name)"
   ]
  },
  {
   "cell_type": "code",
   "execution_count": null,
   "id": "9a233034-a4e1-4585-a346-b5919674dc39",
   "metadata": {},
   "outputs": [],
   "source": []
  }
 ],
 "metadata": {
  "kernelspec": {
   "display_name": "Python 3 (ipykernel)",
   "language": "python",
   "name": "python3"
  },
  "language_info": {
   "codemirror_mode": {
    "name": "ipython",
    "version": 3
   },
   "file_extension": ".py",
   "mimetype": "text/x-python",
   "name": "python",
   "nbconvert_exporter": "python",
   "pygments_lexer": "ipython3",
   "version": "3.12.4"
  }
 },
 "nbformat": 4,
 "nbformat_minor": 5
}
