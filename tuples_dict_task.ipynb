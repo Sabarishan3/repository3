{
 "cells": [
  {
   "cell_type": "markdown",
   "metadata": {
    "id": "156e7e3f"
   },
   "source": [
    "## TASK 1"
   ]
  },
  {
   "cell_type": "code",
   "execution_count": null,
   "metadata": {
    "id": "209cf0ab"
   },
   "outputs": [],
   "source": [
    "# Tuple containing tuples of student names and their favorite subjects\n",
    "students = (('Alice', 'Math'), ('Bob', 'Science'), ('Charlie', 'History'))\n",
    "\n",
    "# Dictionary with student names and their scores in different subjects\n",
    "scores = {\n",
    "    'Alice': {'Math': 90, 'Science': 85, 'History': 78},\n",
    "    'Bob': {'Math': 82, 'Science': 88, 'History': 91},\n",
    "    'Charlie': {'Math': 79, 'Science': 85, 'History': 92}\n",
    "}\n",
    "#o/p:{'Alice':90,'Bob':88}"
   ]
  },
  {
   "cell_type": "code",
   "execution_count": 4,
   "metadata": {
    "id": "d722ed82-3a9f-4a04-98ac-2e6b8f7f0069",
    "outputId": "983aa21e-98cc-4130-aa4b-ea7b3cbcd596"
   },
   "outputs": [
    {
     "ename": "NameError",
     "evalue": "name 'scores' is not defined",
     "output_type": "error",
     "traceback": [
      "\u001b[1;31m---------------------------------------------------------------------------\u001b[0m",
      "\u001b[1;31mNameError\u001b[0m                                 Traceback (most recent call last)",
      "\u001b[1;32m<ipython-input-4-b1c5c62ed18d>\u001b[0m in \u001b[0;36m<module>\u001b[1;34m\u001b[0m\n\u001b[1;32m----> 1\u001b[1;33m \u001b[0mscores\u001b[0m\u001b[1;33m[\u001b[0m\u001b[1;34m'Alice'\u001b[0m\u001b[1;33m]\u001b[0m\u001b[1;33m[\u001b[0m\u001b[1;34m'Math'\u001b[0m\u001b[1;33m]\u001b[0m\u001b[1;33m\u001b[0m\u001b[1;33m\u001b[0m\u001b[0m\n\u001b[0m",
      "\u001b[1;31mNameError\u001b[0m: name 'scores' is not defined"
     ]
    }
   ],
   "source": [
    "scores['Alice']['Math']"
   ]
  },
  {
   "cell_type": "code",
   "execution_count": null,
   "metadata": {
    "id": "79394c08-df36-4968-afbb-70281a4e2875",
    "outputId": "f4649eda-e979-4f46-e40d-ecb9e188da31"
   },
   "outputs": [
    {
     "data": {
      "text/plain": [
       "{'Alice': 90}"
      ]
     },
     "execution_count": 7,
     "metadata": {},
     "output_type": "execute_result"
    }
   ],
   "source": [
    "out={}\n",
    "out[students[0][0]]=scores[students[0][0]][students[0][1]]\n",
    "out"
   ]
  },
  {
   "cell_type": "markdown",
   "metadata": {
    "id": "eab4ee9a-1d38-4051-9cba-223df50eb1fe"
   },
   "source": [
    "### Disclaimer:Dont use ChatGPT\n",
    "### *1-extracts names,scores_values using indexing\n",
    "### *2-direct extraction\n",
    "### follow *1 and *2 and do required task-Total 5 questions"
   ]
  },
  {
   "cell_type": "code",
   "execution_count": null,
   "metadata": {
    "id": "ed051f6f"
   },
   "outputs": [],
   "source": [
    "# Main Task:\n",
    "\n",
    "# For each student in the students tuple, extract marks of their favorite subject from the scores dictionary and\n",
    "# add it to a new dictionary with the student’s name as the key and the score as the value.\n",
    "\n",
    "# Additional Questions:\n",
    "\n",
    "# 1.From nested tuple students create a new tuple where each element is a string combining the first letter of the student’s name\n",
    "# with the first letter of their favorite subject (in lowercase), separated by a hyphen (-).ie)('A-m','B-s','C-h') (*1)\n",
    "# #dont try split and join;I think you all had good amt of pratice in it; this time for easier approach: **try formatting** search formatting in strings notebook,understand and apply\n",
    "\n",
    "# 2.create new dictionay with key as Reverse of names in the students tuple and convert them to title case.\n",
    "# extract all 3 subject marks as lists for individual student and add them as corresponding values .(*1) ie){'Ecila': [90, 85, 78],..for bob and charlie}\n",
    "# **hint:try to use dictionary method for values**\n",
    "\n",
    "# 3.Create a new dictionary where each key is the student’s name and the value is highest score among 3 subject for corresponding student.\n",
    "# (*2)"
   ]
  },
  {
   "cell_type": "markdown",
   "metadata": {
    "id": "5b1bdbdc"
   },
   "source": [
    "## Task-2"
   ]
  },
  {
   "cell_type": "code",
   "execution_count": null,
   "metadata": {
    "id": "c0b3163d"
   },
   "outputs": [],
   "source": [
    "# Tuple containing employee names and their department\n",
    "employees = (('John', 'HR'), ('Emily', 'Finance'), ('Michael', 'IT'), ('Sophia', 'Marketing'))\n",
    "\n",
    "# Dictionary with employee names and their monthly salaries\n",
    "salaries = {\n",
    "    'John': [3000, 3200, 3100],\n",
    "    'Emily': [3500, 3600, 3700],\n",
    "    'Michael': [4000, 4200, 4100],\n",
    "    'Sophia': [2800, 2900, 3000]\n",
    "}"
   ]
  },
  {
   "cell_type": "code",
   "execution_count": null,
   "metadata": {
    "id": "SBG2fT_UEReT"
   },
   "outputs": [],
   "source": [
    "# Task:(*2) for 2 tasks\n",
    "\n",
    "# 4.Create a new dictionary where each key is the employee’s name and value is tuple containing employees department and  average of their monthly salaries.\n",
    "# ie)in this format {'John': ('HR', 3100.0),...}\n",
    "\n",
    "# 5.Calculate the total salary for each employee over the given 3 months and update the salaries dictionary with this sum as value\n",
    "# changes should be in original dictionary salaries"
   ]
  }
 ],
 "metadata": {
  "colab": {
   "provenance": []
  },
  "kernelspec": {
   "display_name": "Python 3",
   "language": "python",
   "name": "python3"
  },
  "language_info": {
   "codemirror_mode": {
    "name": "ipython",
    "version": 3
   },
   "file_extension": ".py",
   "mimetype": "text/x-python",
   "name": "python",
   "nbconvert_exporter": "python",
   "pygments_lexer": "ipython3",
   "version": "3.8.3"
  }
 },
 "nbformat": 4,
 "nbformat_minor": 5
}
